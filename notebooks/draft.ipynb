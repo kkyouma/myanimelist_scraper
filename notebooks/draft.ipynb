{
 "cells": [
  {
   "cell_type": "markdown",
   "metadata": {},
   "source": [
    "# Draft"
   ]
  },
  {
   "cell_type": "markdown",
   "metadata": {},
   "source": [
    "## Exploratory requests"
   ]
  },
  {
   "cell_type": "code",
   "execution_count": null,
   "metadata": {},
   "outputs": [],
   "source": [
    "import requests\n",
    "from bs4 import BeautifulSoup\n",
    "from pathlib import Path\n",
    "from urllib.parse import urljoin\n",
    "\n",
    "from pygments import highlight\n",
    "from pygments.formatters import TerminalFormatter\n",
    "from pygments.lexers import HtmlLexer"
   ]
  },
  {
   "cell_type": "code",
   "execution_count": 48,
   "metadata": {},
   "outputs": [],
   "source": [
    "url = \"https://myanimelist.net/manga/2/stats\""
   ]
  },
  {
   "cell_type": "code",
   "execution_count": 49,
   "metadata": {},
   "outputs": [],
   "source": [
    "response = requests.Session().get(url)\n",
    "soup = BeautifulSoup(response.text, \"html.parser\")\n",
    "\n",
    "response.raise_for_status()"
   ]
  },
  {
   "cell_type": "code",
   "execution_count": 50,
   "metadata": {},
   "outputs": [],
   "source": [
    "cwd_path = Path().cwd()\n",
    "data_path = cwd_path.parent / \"data\" / \"raw\"\n",
    "file_path = data_path / \"berserk_stats.html\"\n",
    "\n",
    "with file_path.open(\"w\") as f:\n",
    "    f.write(soup.prettify())"
   ]
  },
  {
   "cell_type": "markdown",
   "metadata": {},
   "source": [
    "## Extracting data"
   ]
  },
  {
   "cell_type": "code",
   "execution_count": 51,
   "metadata": {},
   "outputs": [],
   "source": [
    "with file_path.open(\"r\") as f:\n",
    "    raw_html = f.read()\n",
    "\n",
    "stats_soup = BeautifulSoup(raw_html, \"html.parser\")\n",
    "soup = BeautifulSoup(raw_html, \"html.parser\")"
   ]
  },
  {
   "cell_type": "code",
   "execution_count": 97,
   "metadata": {},
   "outputs": [
    {
     "name": "stdout",
     "output_type": "stream",
     "text": [
      "synonyms: Berserk: The Prototype\n",
      "japanese: ベルセルク\n",
      "english: Berserk\n",
      "type: Manga\n",
      "volumes: Unknown\n",
      "chapters: Unknown\n",
      "status: Publishing\n",
      "published: Aug  25, 1989 to ?\n",
      "genres: ['Action', 'Adventure', 'Award Winning', 'Drama', 'Fantasy', 'Horror', 'Supernatural']\n",
      "themes: ['Gore', 'Military', 'Mythology', 'Psychological']\n",
      "demographic: Seinen\n",
      "serialization: Young Animal\n",
      "authors: ['Miura, Kentarou', 'Studio Gaga']\n",
      "score: weighted score\n",
      "ranked: top manga\n",
      "popularity: #1\n",
      "members: 732,000\n",
      "favorites: 131,366\n"
     ]
    },
    {
     "data": {
      "text/plain": [
       "{'synonyms': 'Berserk: The Prototype',\n",
       " 'japanese': 'ベルセルク',\n",
       " 'english': 'Berserk',\n",
       " 'type': 'Manga',\n",
       " 'volumes': 'Unknown',\n",
       " 'chapters': 'Unknown',\n",
       " 'status': 'Publishing',\n",
       " 'published': 'Aug  25, 1989 to ?',\n",
       " 'genres': ['Action',\n",
       "  'Adventure',\n",
       "  'Award Winning',\n",
       "  'Drama',\n",
       "  'Fantasy',\n",
       "  'Horror',\n",
       "  'Supernatural'],\n",
       " 'themes': ['Gore', 'Military', 'Mythology', 'Psychological'],\n",
       " 'demographic': 'Seinen',\n",
       " 'serialization': 'Young Animal',\n",
       " 'authors': ['Miura, Kentarou', 'Studio Gaga'],\n",
       " 'score': 'weighted score',\n",
       " 'ranked': 'top manga',\n",
       " 'popularity': '#1',\n",
       " 'members': '732,000',\n",
       " 'favorites': '131,366'}"
      ]
     },
     "execution_count": 97,
     "metadata": {},
     "output_type": "execute_result"
    }
   ],
   "source": [
    "def extract_stats(\n",
    "    url: str | None = None,\n",
    "    session: requests.Session = None,\n",
    "    soup: BeautifulSoup = stats_soup,\n",
    ") -> dict[str, int | str | list[str] | None]:\n",
    "    # session = session or requests.Session()\n",
    "\n",
    "    # response = session.get(url)\n",
    "    # response.raise_for_status()\n",
    "\n",
    "    # soup = BeautifulSoup(response.text, \"html.parser\")\n",
    "\n",
    "    stats = {}\n",
    "\n",
    "    for div in soup.select(\"div[class*='spaceit_pad']\"):\n",
    "        label = div.find(\"span\", class_=\"dark_text\")\n",
    "\n",
    "        if label:\n",
    "            key = label.text.strip().rstrip(\":\").lower()\n",
    "            links = div.find_all(\"a\")\n",
    "            # Get the text after the label and clean it\n",
    "            if len(links) > 1:\n",
    "                value = [link.text.strip() for link in links]\n",
    "            elif len(links) == 1:\n",
    "                value = links[0].text.strip()\n",
    "            else:\n",
    "                value = label.next_sibling.strip()\n",
    "            stats[key] = value\n",
    "            print(f\"{key}: {value}\")\n",
    "\n",
    "    return stats\n",
    "\n",
    "\n",
    "extract_stats()"
   ]
  },
  {
   "cell_type": "code",
   "execution_count": 47,
   "metadata": {},
   "outputs": [
    {
     "name": "stdout",
     "output_type": "stream",
     "text": [
      "Berserk: https://myanimelist.net/manga/2/stats\n"
     ]
    }
   ],
   "source": [
    "max_iterations = 1\n",
    "\n",
    "\n",
    "for i, item in enumerate(soup.select(\"a[class*=fs14]\")):\n",
    "    if i >= max_iterations:\n",
    "        break\n",
    "\n",
    "    url = item[\"href\"]\n",
    "    stats_url = urljoin(url, \"stats\")\n",
    "    name = item.text.strip()\n",
    "\n",
    "    stats_data = extract_stats(stats_url, session)\n",
    "\n",
    "    # colored_html = highlight(item.prettify(), HtmlLexer(), TerminalFormatter())\n",
    "    print(name, stats_url, sep=\": \")"
   ]
  },
  {
   "cell_type": "code",
   "execution_count": 91,
   "metadata": {},
   "outputs": [
    {
     "name": "stdout",
     "output_type": "stream",
     "text": [
      "synonyms: Berserk: The Prototype\n",
      "japanese: ベルセルク\n",
      "english: Berserk\n",
      "type: Manga\n",
      "volumes: Unknown\n",
      "chapters: Unknown\n",
      "status: Publishing\n",
      "published: Aug  25, 1989 to ?\n",
      "genres: ['Action', 'Adventure', 'Award Winning', 'Drama', 'Fantasy', 'Horror', 'Supernatural']\n",
      "themes: ['Gore', 'Military', 'Mythology', 'Psychological']\n",
      "demographic: Seinen\n",
      "serialization: Young Animal\n",
      "authors: ['Miura, Kentarou', 'Studio Gaga']\n",
      "score: weighted score\n",
      "ranked: top manga\n",
      "popularity: #1\n",
      "members: 732,000\n",
      "favorites: 131,366\n"
     ]
    }
   ],
   "source": [
    "fields = {}\n",
    "\n"
   ]
  }
 ],
 "metadata": {
  "kernelspec": {
   "display_name": ".venv",
   "language": "python",
   "name": "python3"
  },
  "language_info": {
   "codemirror_mode": {
    "name": "ipython",
    "version": 3
   },
   "file_extension": ".py",
   "mimetype": "text/x-python",
   "name": "python",
   "nbconvert_exporter": "python",
   "pygments_lexer": "ipython3",
   "version": "3.13.0"
  }
 },
 "nbformat": 4,
 "nbformat_minor": 2
}
